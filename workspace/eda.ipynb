{
 "cells": [
  {
   "cell_type": "markdown",
   "metadata": {},
   "source": [
    "# Aviation Accidents\n",
    "\n",
    "![plane crash](img/plane-crash.png)\n",
    "\n",
    "_Image source: [gta5-mods.com](https://www.gta5-mods.com/maps/dynamic-plane-crash)_"
   ]
  },
  {
   "cell_type": "markdown",
   "metadata": {},
   "source": [
    "[The NTSB aviation accident dataset](https://www.kaggle.com/khsamaha/aviation-accident-database-synopses)"
   ]
  },
  {
   "cell_type": "code",
   "execution_count": 22,
   "metadata": {},
   "outputs": [],
   "source": [
    "# Import all modules\n",
    "import datetime\n",
    "import numpy as np\n",
    "import pandas as pd\n",
    "import matplotlib.pyplot as plt\n",
    "import seaborn as sns\n",
    "import os\n",
    "\n",
    "%matplotlib inline\n",
    "plt.rcParams['figure.figsize'] = (15,6)"
   ]
  },
  {
   "cell_type": "markdown",
   "metadata": {},
   "source": [
    "## A Look at the Data\n",
    "\n"
   ]
  },
  {
   "cell_type": "code",
   "execution_count": 2,
   "metadata": {},
   "outputs": [
    {
     "data": {
      "text/html": [
       "<div>\n",
       "<style scoped>\n",
       "    .dataframe tbody tr th:only-of-type {\n",
       "        vertical-align: middle;\n",
       "    }\n",
       "\n",
       "    .dataframe tbody tr th {\n",
       "        vertical-align: top;\n",
       "    }\n",
       "\n",
       "    .dataframe thead th {\n",
       "        text-align: right;\n",
       "    }\n",
       "</style>\n",
       "<table border=\"1\" class=\"dataframe\">\n",
       "  <thead>\n",
       "    <tr style=\"text-align: right;\">\n",
       "      <th></th>\n",
       "      <th>Event.Id</th>\n",
       "      <th>Investigation.Type</th>\n",
       "      <th>Accident.Number</th>\n",
       "      <th>Event.Date</th>\n",
       "      <th>Location</th>\n",
       "      <th>Country</th>\n",
       "      <th>Latitude</th>\n",
       "      <th>Longitude</th>\n",
       "      <th>Airport.Code</th>\n",
       "      <th>Airport.Name</th>\n",
       "      <th>...</th>\n",
       "      <th>Purpose.of.Flight</th>\n",
       "      <th>Air.Carrier</th>\n",
       "      <th>Total.Fatal.Injuries</th>\n",
       "      <th>Total.Serious.Injuries</th>\n",
       "      <th>Total.Minor.Injuries</th>\n",
       "      <th>Total.Uninjured</th>\n",
       "      <th>Weather.Condition</th>\n",
       "      <th>Broad.Phase.of.Flight</th>\n",
       "      <th>Report.Status</th>\n",
       "      <th>Publication.Date</th>\n",
       "    </tr>\n",
       "  </thead>\n",
       "  <tbody>\n",
       "    <tr>\n",
       "      <th>0</th>\n",
       "      <td>20181217X10943</td>\n",
       "      <td>Accident</td>\n",
       "      <td>GAA19CA098</td>\n",
       "      <td>2018-12-16</td>\n",
       "      <td>Grangville, ID</td>\n",
       "      <td>United States</td>\n",
       "      <td>45.583611</td>\n",
       "      <td>-115.681667</td>\n",
       "      <td>PVT</td>\n",
       "      <td>NaN</td>\n",
       "      <td>...</td>\n",
       "      <td>Positioning</td>\n",
       "      <td>NaN</td>\n",
       "      <td>NaN</td>\n",
       "      <td>NaN</td>\n",
       "      <td>NaN</td>\n",
       "      <td>1.0</td>\n",
       "      <td>NaN</td>\n",
       "      <td>NaN</td>\n",
       "      <td>Preliminary</td>\n",
       "      <td>2018-12-18</td>\n",
       "    </tr>\n",
       "    <tr>\n",
       "      <th>1</th>\n",
       "      <td>20181217X25746</td>\n",
       "      <td>Accident</td>\n",
       "      <td>GAA19CA097</td>\n",
       "      <td>2018-12-15</td>\n",
       "      <td>MORIARTY, NM</td>\n",
       "      <td>United States</td>\n",
       "      <td>34.970000</td>\n",
       "      <td>-106.000000</td>\n",
       "      <td>NaN</td>\n",
       "      <td>MORIARTY MUNI</td>\n",
       "      <td>...</td>\n",
       "      <td>Personal</td>\n",
       "      <td>NaN</td>\n",
       "      <td>NaN</td>\n",
       "      <td>NaN</td>\n",
       "      <td>NaN</td>\n",
       "      <td>1.0</td>\n",
       "      <td>VMC</td>\n",
       "      <td>NaN</td>\n",
       "      <td>Preliminary</td>\n",
       "      <td>2018-12-20</td>\n",
       "    </tr>\n",
       "    <tr>\n",
       "      <th>2</th>\n",
       "      <td>20181213X41114</td>\n",
       "      <td>Accident</td>\n",
       "      <td>ERA19LA065</td>\n",
       "      <td>2018-12-13</td>\n",
       "      <td>Punta Gorda, FL</td>\n",
       "      <td>United States</td>\n",
       "      <td>26.925278</td>\n",
       "      <td>-82.001111</td>\n",
       "      <td>PGD</td>\n",
       "      <td>Punta Gorda</td>\n",
       "      <td>...</td>\n",
       "      <td>Personal</td>\n",
       "      <td>NaN</td>\n",
       "      <td>NaN</td>\n",
       "      <td>NaN</td>\n",
       "      <td>1.0</td>\n",
       "      <td>NaN</td>\n",
       "      <td>VMC</td>\n",
       "      <td>APPROACH</td>\n",
       "      <td>Preliminary</td>\n",
       "      <td>2018-12-21</td>\n",
       "    </tr>\n",
       "    <tr>\n",
       "      <th>3</th>\n",
       "      <td>20181213X45528</td>\n",
       "      <td>Accident</td>\n",
       "      <td>CEN19FA044</td>\n",
       "      <td>2018-12-13</td>\n",
       "      <td>Valparaiso, IN</td>\n",
       "      <td>United States</td>\n",
       "      <td>41.451667</td>\n",
       "      <td>-87.004444</td>\n",
       "      <td>VPZ</td>\n",
       "      <td>Porter County Rgnl</td>\n",
       "      <td>...</td>\n",
       "      <td>Personal</td>\n",
       "      <td>NaN</td>\n",
       "      <td>1.0</td>\n",
       "      <td>NaN</td>\n",
       "      <td>NaN</td>\n",
       "      <td>NaN</td>\n",
       "      <td>VMC</td>\n",
       "      <td>TAKEOFF</td>\n",
       "      <td>Preliminary</td>\n",
       "      <td>2018-12-19</td>\n",
       "    </tr>\n",
       "    <tr>\n",
       "      <th>4</th>\n",
       "      <td>20181214X90303</td>\n",
       "      <td>Accident</td>\n",
       "      <td>GAA19CA096</td>\n",
       "      <td>2018-12-11</td>\n",
       "      <td>Hartford, WI</td>\n",
       "      <td>United States</td>\n",
       "      <td>43.330278</td>\n",
       "      <td>-88.326111</td>\n",
       "      <td>HXF</td>\n",
       "      <td>Hartford Muni</td>\n",
       "      <td>...</td>\n",
       "      <td>Personal</td>\n",
       "      <td>NaN</td>\n",
       "      <td>NaN</td>\n",
       "      <td>NaN</td>\n",
       "      <td>NaN</td>\n",
       "      <td>1.0</td>\n",
       "      <td>VMC</td>\n",
       "      <td>NaN</td>\n",
       "      <td>Preliminary</td>\n",
       "      <td>2018-12-18</td>\n",
       "    </tr>\n",
       "  </tbody>\n",
       "</table>\n",
       "<p>5 rows × 31 columns</p>\n",
       "</div>"
      ],
      "text/plain": [
       "         Event.Id Investigation.Type Accident.Number  Event.Date  \\\n",
       "0  20181217X10943           Accident      GAA19CA098  2018-12-16   \n",
       "1  20181217X25746           Accident      GAA19CA097  2018-12-15   \n",
       "2  20181213X41114           Accident      ERA19LA065  2018-12-13   \n",
       "3  20181213X45528           Accident      CEN19FA044  2018-12-13   \n",
       "4  20181214X90303           Accident      GAA19CA096  2018-12-11   \n",
       "\n",
       "          Location        Country   Latitude   Longitude Airport.Code  \\\n",
       "0   Grangville, ID  United States  45.583611 -115.681667          PVT   \n",
       "1     MORIARTY, NM  United States  34.970000 -106.000000          NaN   \n",
       "2  Punta Gorda, FL  United States  26.925278  -82.001111          PGD   \n",
       "3   Valparaiso, IN  United States  41.451667  -87.004444          VPZ   \n",
       "4     Hartford, WI  United States  43.330278  -88.326111          HXF   \n",
       "\n",
       "         Airport.Name  ... Purpose.of.Flight Air.Carrier Total.Fatal.Injuries  \\\n",
       "0                 NaN  ...       Positioning         NaN                  NaN   \n",
       "1       MORIARTY MUNI  ...          Personal         NaN                  NaN   \n",
       "2         Punta Gorda  ...          Personal         NaN                  NaN   \n",
       "3  Porter County Rgnl  ...          Personal         NaN                  1.0   \n",
       "4       Hartford Muni  ...          Personal         NaN                  NaN   \n",
       "\n",
       "  Total.Serious.Injuries Total.Minor.Injuries Total.Uninjured  \\\n",
       "0                    NaN                  NaN             1.0   \n",
       "1                    NaN                  NaN             1.0   \n",
       "2                    NaN                  1.0             NaN   \n",
       "3                    NaN                  NaN             NaN   \n",
       "4                    NaN                  NaN             1.0   \n",
       "\n",
       "  Weather.Condition  Broad.Phase.of.Flight Report.Status Publication.Date  \n",
       "0               NaN                    NaN   Preliminary       2018-12-18  \n",
       "1               VMC                    NaN   Preliminary       2018-12-20  \n",
       "2               VMC               APPROACH   Preliminary       2018-12-21  \n",
       "3               VMC                TAKEOFF   Preliminary       2018-12-19  \n",
       "4               VMC                    NaN   Preliminary       2018-12-18  \n",
       "\n",
       "[5 rows x 31 columns]"
      ]
     },
     "execution_count": 2,
     "metadata": {},
     "output_type": "execute_result"
    }
   ],
   "source": [
    "filename_data = 'AviationData.csv'\n",
    "encoding = 'iso-8859-1'\n",
    "path_data = os.path.join('..', 'data', filename_data)\n",
    "df = pd.read_csv(path_data, encoding=encoding)\n",
    "df.head()"
   ]
  },
  {
   "cell_type": "code",
   "execution_count": 3,
   "metadata": {},
   "outputs": [
    {
     "name": "stdout",
     "output_type": "stream",
     "text": [
      "<class 'pandas.core.frame.DataFrame'>\n",
      "RangeIndex: 82635 entries, 0 to 82634\n",
      "Data columns (total 31 columns):\n",
      "Event.Id                  82635 non-null object\n",
      "Investigation.Type        82634 non-null object\n",
      "Accident.Number           82635 non-null object\n",
      "Event.Date                82635 non-null object\n",
      "Location                  82560 non-null object\n",
      "Country                   82128 non-null object\n",
      "Latitude                  28732 non-null float64\n",
      "Longitude                 28723 non-null float64\n",
      "Airport.Code              46776 non-null object\n",
      "Airport.Name              49514 non-null object\n",
      "Injury.Severity           82635 non-null object\n",
      "Aircraft.Damage           80043 non-null object\n",
      "Aircraft.Category         25900 non-null object\n",
      "Registration.Number       79053 non-null object\n",
      "Make                      82562 non-null object\n",
      "Model                     82533 non-null object\n",
      "Amateur.Built             82008 non-null object\n",
      "Number.of.Engines         78026 non-null float64\n",
      "Engine.Type               78653 non-null object\n",
      "FAR.Description           25567 non-null object\n",
      "Schedule                  11730 non-null object\n",
      "Purpose.of.Flight         78085 non-null object\n",
      "Air.Carrier               4090 non-null object\n",
      "Total.Fatal.Injuries      56668 non-null float64\n",
      "Total.Serious.Injuries    54169 non-null float64\n",
      "Total.Minor.Injuries      55347 non-null float64\n",
      "Total.Uninjured           68840 non-null float64\n",
      "Weather.Condition         79927 non-null object\n",
      "Broad.Phase.of.Flight     76132 non-null object\n",
      "Report.Status             82635 non-null object\n",
      "Publication.Date          68621 non-null object\n",
      "dtypes: float64(7), object(24)\n",
      "memory usage: 19.5+ MB\n"
     ]
    }
   ],
   "source": [
    "# Data column info\n",
    "df.info()"
   ]
  },
  {
   "cell_type": "code",
   "execution_count": 4,
   "metadata": {},
   "outputs": [
    {
     "data": {
      "text/plain": [
       "82635"
      ]
     },
     "execution_count": 4,
     "metadata": {},
     "output_type": "execute_result"
    }
   ],
   "source": [
    "# row count\n",
    "df.shape[0]"
   ]
  },
  {
   "cell_type": "markdown",
   "metadata": {},
   "source": [
    "Drop data that is not interested in"
   ]
  },
  {
   "cell_type": "code",
   "execution_count": 5,
   "metadata": {},
   "outputs": [
    {
     "data": {
      "text/html": [
       "<div>\n",
       "<style scoped>\n",
       "    .dataframe tbody tr th:only-of-type {\n",
       "        vertical-align: middle;\n",
       "    }\n",
       "\n",
       "    .dataframe tbody tr th {\n",
       "        vertical-align: top;\n",
       "    }\n",
       "\n",
       "    .dataframe thead th {\n",
       "        text-align: right;\n",
       "    }\n",
       "</style>\n",
       "<table border=\"1\" class=\"dataframe\">\n",
       "  <thead>\n",
       "    <tr style=\"text-align: right;\">\n",
       "      <th></th>\n",
       "      <th>Investigation.Type</th>\n",
       "      <th>Event.Date</th>\n",
       "      <th>Location</th>\n",
       "      <th>Country</th>\n",
       "      <th>Airport.Code</th>\n",
       "      <th>Airport.Name</th>\n",
       "      <th>Injury.Severity</th>\n",
       "      <th>Aircraft.Damage</th>\n",
       "      <th>Aircraft.Category</th>\n",
       "      <th>Make</th>\n",
       "      <th>...</th>\n",
       "      <th>Schedule</th>\n",
       "      <th>Purpose.of.Flight</th>\n",
       "      <th>Air.Carrier</th>\n",
       "      <th>Total.Fatal.Injuries</th>\n",
       "      <th>Total.Serious.Injuries</th>\n",
       "      <th>Total.Minor.Injuries</th>\n",
       "      <th>Total.Uninjured</th>\n",
       "      <th>Weather.Condition</th>\n",
       "      <th>Broad.Phase.of.Flight</th>\n",
       "      <th>Report.Status</th>\n",
       "    </tr>\n",
       "  </thead>\n",
       "  <tbody>\n",
       "    <tr>\n",
       "      <th>76060</th>\n",
       "      <td>Incident</td>\n",
       "      <td>1983-10-15</td>\n",
       "      <td>WOODLAND, CA</td>\n",
       "      <td>United States</td>\n",
       "      <td>203</td>\n",
       "      <td>YOLO COUNTY</td>\n",
       "      <td>Incident</td>\n",
       "      <td>Minor</td>\n",
       "      <td>NaN</td>\n",
       "      <td>CESSNA</td>\n",
       "      <td>...</td>\n",
       "      <td>NaN</td>\n",
       "      <td>Instructional</td>\n",
       "      <td>NaN</td>\n",
       "      <td>0.0</td>\n",
       "      <td>0.0</td>\n",
       "      <td>0.0</td>\n",
       "      <td>6.0</td>\n",
       "      <td>VMC</td>\n",
       "      <td>TAKEOFF</td>\n",
       "      <td>Probable Cause</td>\n",
       "    </tr>\n",
       "    <tr>\n",
       "      <th>72915</th>\n",
       "      <td>Accident</td>\n",
       "      <td>1984-09-09</td>\n",
       "      <td>LYNCHBURG, VA</td>\n",
       "      <td>United States</td>\n",
       "      <td>LYH</td>\n",
       "      <td>LYNCHBURG</td>\n",
       "      <td>Non-Fatal</td>\n",
       "      <td>Destroyed</td>\n",
       "      <td>NaN</td>\n",
       "      <td>PIPER</td>\n",
       "      <td>...</td>\n",
       "      <td>NaN</td>\n",
       "      <td>Personal</td>\n",
       "      <td>NaN</td>\n",
       "      <td>0.0</td>\n",
       "      <td>1.0</td>\n",
       "      <td>1.0</td>\n",
       "      <td>0.0</td>\n",
       "      <td>VMC</td>\n",
       "      <td>TAKEOFF</td>\n",
       "      <td>Probable Cause</td>\n",
       "    </tr>\n",
       "    <tr>\n",
       "      <th>50157</th>\n",
       "      <td>Accident</td>\n",
       "      <td>1993-04-07</td>\n",
       "      <td>AUGUSTA, GA</td>\n",
       "      <td>United States</td>\n",
       "      <td>DNL</td>\n",
       "      <td>DANIEL FIELD</td>\n",
       "      <td>Non-Fatal</td>\n",
       "      <td>Destroyed</td>\n",
       "      <td>NaN</td>\n",
       "      <td>BEECH</td>\n",
       "      <td>...</td>\n",
       "      <td>NaN</td>\n",
       "      <td>Personal</td>\n",
       "      <td>NaN</td>\n",
       "      <td>0.0</td>\n",
       "      <td>0.0</td>\n",
       "      <td>1.0</td>\n",
       "      <td>0.0</td>\n",
       "      <td>VMC</td>\n",
       "      <td>APPROACH</td>\n",
       "      <td>Probable Cause</td>\n",
       "    </tr>\n",
       "    <tr>\n",
       "      <th>9293</th>\n",
       "      <td>Accident</td>\n",
       "      <td>2013-02-10</td>\n",
       "      <td>Acton, CA</td>\n",
       "      <td>United States</td>\n",
       "      <td>NaN</td>\n",
       "      <td>NaN</td>\n",
       "      <td>Fatal(3)</td>\n",
       "      <td>Substantial</td>\n",
       "      <td>Helicopter</td>\n",
       "      <td>BELL</td>\n",
       "      <td>...</td>\n",
       "      <td>NaN</td>\n",
       "      <td>Other Work Use</td>\n",
       "      <td>NaN</td>\n",
       "      <td>3.0</td>\n",
       "      <td>NaN</td>\n",
       "      <td>NaN</td>\n",
       "      <td>NaN</td>\n",
       "      <td>VMC</td>\n",
       "      <td>MANEUVERING</td>\n",
       "      <td>Probable Cause</td>\n",
       "    </tr>\n",
       "    <tr>\n",
       "      <th>53490</th>\n",
       "      <td>Accident</td>\n",
       "      <td>1991-09-21</td>\n",
       "      <td>HACKETTSTOWN, NJ</td>\n",
       "      <td>United States</td>\n",
       "      <td>N05</td>\n",
       "      <td>HACKETTSTOWN</td>\n",
       "      <td>Non-Fatal</td>\n",
       "      <td>Substantial</td>\n",
       "      <td>NaN</td>\n",
       "      <td>PIPER</td>\n",
       "      <td>...</td>\n",
       "      <td>NaN</td>\n",
       "      <td>Personal</td>\n",
       "      <td>NaN</td>\n",
       "      <td>0.0</td>\n",
       "      <td>0.0</td>\n",
       "      <td>0.0</td>\n",
       "      <td>1.0</td>\n",
       "      <td>VMC</td>\n",
       "      <td>LANDING</td>\n",
       "      <td>Probable Cause</td>\n",
       "    </tr>\n",
       "  </tbody>\n",
       "</table>\n",
       "<p>5 rows × 25 columns</p>\n",
       "</div>"
      ],
      "text/plain": [
       "      Investigation.Type  Event.Date          Location        Country  \\\n",
       "76060           Incident  1983-10-15      WOODLAND, CA  United States   \n",
       "72915           Accident  1984-09-09     LYNCHBURG, VA  United States   \n",
       "50157           Accident  1993-04-07       AUGUSTA, GA  United States   \n",
       "9293            Accident  2013-02-10         Acton, CA  United States   \n",
       "53490           Accident  1991-09-21  HACKETTSTOWN, NJ  United States   \n",
       "\n",
       "      Airport.Code  Airport.Name Injury.Severity Aircraft.Damage  \\\n",
       "76060          203   YOLO COUNTY        Incident           Minor   \n",
       "72915          LYH     LYNCHBURG       Non-Fatal       Destroyed   \n",
       "50157          DNL  DANIEL FIELD       Non-Fatal       Destroyed   \n",
       "9293           NaN           NaN        Fatal(3)     Substantial   \n",
       "53490          N05  HACKETTSTOWN       Non-Fatal     Substantial   \n",
       "\n",
       "      Aircraft.Category    Make  ... Schedule Purpose.of.Flight  Air.Carrier  \\\n",
       "76060               NaN  CESSNA  ...      NaN     Instructional          NaN   \n",
       "72915               NaN   PIPER  ...      NaN          Personal          NaN   \n",
       "50157               NaN   BEECH  ...      NaN          Personal          NaN   \n",
       "9293         Helicopter    BELL  ...      NaN    Other Work Use          NaN   \n",
       "53490               NaN   PIPER  ...      NaN          Personal          NaN   \n",
       "\n",
       "      Total.Fatal.Injuries Total.Serious.Injuries Total.Minor.Injuries  \\\n",
       "76060                  0.0                    0.0                  0.0   \n",
       "72915                  0.0                    1.0                  1.0   \n",
       "50157                  0.0                    0.0                  1.0   \n",
       "9293                   3.0                    NaN                  NaN   \n",
       "53490                  0.0                    0.0                  0.0   \n",
       "\n",
       "      Total.Uninjured Weather.Condition  Broad.Phase.of.Flight   Report.Status  \n",
       "76060             6.0               VMC                TAKEOFF  Probable Cause  \n",
       "72915             0.0               VMC                TAKEOFF  Probable Cause  \n",
       "50157             0.0               VMC               APPROACH  Probable Cause  \n",
       "9293              NaN               VMC            MANEUVERING  Probable Cause  \n",
       "53490             1.0               VMC                LANDING  Probable Cause  \n",
       "\n",
       "[5 rows x 25 columns]"
      ]
     },
     "execution_count": 5,
     "metadata": {},
     "output_type": "execute_result"
    }
   ],
   "source": [
    "# Drop unused data\n",
    "unused_cols = [\n",
    "    'Event.Id',\n",
    "    'Accident.Number',\n",
    "    'Latitude',\n",
    "    'Longitude',\n",
    "    'Registration.Number',\n",
    "    'Publication.Date'\n",
    "]\n",
    "\n",
    "df = df.drop(unused_cols, axis='columns')\n",
    "df.sample(5)"
   ]
  },
  {
   "cell_type": "markdown",
   "metadata": {},
   "source": [
    "## Clean Data"
   ]
  },
  {
   "cell_type": "code",
   "execution_count": 6,
   "metadata": {},
   "outputs": [
    {
     "data": {
      "text/plain": [
       "Investigation.Type            1\n",
       "Event.Date                    0\n",
       "Location                     75\n",
       "Country                     507\n",
       "Airport.Code              35859\n",
       "Airport.Name              33121\n",
       "Injury.Severity               0\n",
       "Aircraft.Damage            2592\n",
       "Aircraft.Category         56735\n",
       "Make                         73\n",
       "Model                       102\n",
       "Amateur.Built               627\n",
       "Number.of.Engines          4609\n",
       "Engine.Type                3982\n",
       "FAR.Description           57068\n",
       "Schedule                  70905\n",
       "Purpose.of.Flight          4550\n",
       "Air.Carrier               78545\n",
       "Total.Fatal.Injuries      25967\n",
       "Total.Serious.Injuries    28466\n",
       "Total.Minor.Injuries      27288\n",
       "Total.Uninjured           13795\n",
       "Weather.Condition          2708\n",
       "Broad.Phase.of.Flight      6503\n",
       "Report.Status                 0\n",
       "dtype: int64"
      ]
     },
     "execution_count": 6,
     "metadata": {},
     "output_type": "execute_result"
    }
   ],
   "source": [
    "df.isnull().sum()"
   ]
  },
  {
   "cell_type": "markdown",
   "metadata": {},
   "source": [
    "There are a lot of `null` values. Some of the data are predictable, thus can be filled in."
   ]
  },
  {
   "cell_type": "markdown",
   "metadata": {},
   "source": [
    "First, some data can be filled as _unknown_"
   ]
  },
  {
   "cell_type": "code",
   "execution_count": 7,
   "metadata": {},
   "outputs": [],
   "source": [
    "df['Weather.Condition'].fillna('UNK', inplace=True)"
   ]
  },
  {
   "cell_type": "markdown",
   "metadata": {},
   "source": [
    "### Number of Engines\n",
    "Number of engines can be guessed by looking at other values with the same aircraft type."
   ]
  },
  {
   "cell_type": "code",
   "execution_count": 8,
   "metadata": {},
   "outputs": [],
   "source": [
    "def guess_number_of_engines(num_engines, model):\n",
    "    \"\"\" Guess number of engines by looking at other same model in the dataset\n",
    "    \"\"\"\n",
    "    if num_engines >= 0:\n",
    "        return num_engines\n",
    "    else:\n",
    "        # guess number of engine of the same model\n",
    "        guess = df['Number.of.Engines'][df['Model'] == model].max()\n",
    "        \n",
    "        return int(guess) if guess > 0 else None\n",
    "    \n",
    "num_engines = df.apply(lambda x: guess_number_of_engines(x['Number.of.Engines'], x['Model']), axis=1)\n",
    "df = df.assign(NumberOfEngines=num_engines, index=df.index)\n",
    "df = df.drop('Number.of.Engines', axis=1)"
   ]
  },
  {
   "cell_type": "markdown",
   "metadata": {},
   "source": [
    "### Aircraft Category\n",
    "Similar to above, guess the aircraft category"
   ]
  },
  {
   "cell_type": "code",
   "execution_count": 10,
   "metadata": {},
   "outputs": [],
   "source": [
    "def guess_aircraft_cat(cat, model):\n",
    "    \"\"\" Guess aircraft category by looking at other same model in the dataset\n",
    "    \"\"\"\n",
    "    if type(cat) == str:\n",
    "        return cat\n",
    "    else:\n",
    "        # guess aircraft category\n",
    "        guess = df['Aircraft.Category'][df['Model'] == model].mode()\n",
    "        return guess[0] if guess.count() > 0 else None\n",
    "    \n",
    "aircraft_cat = df.apply(lambda x: guess_aircraft_cat(x['Aircraft.Category'], x['Model']), axis=1)\n",
    "df = df.assign(AircraftCategory=aircraft_cat, index=df.index)\n",
    "df = df.drop('Aircraft.Category', axis=1)"
   ]
  },
  {
   "cell_type": "markdown",
   "metadata": {},
   "source": [
    "### Engine Types\n",
    "Similar to above, guess the engine type"
   ]
  },
  {
   "cell_type": "code",
   "execution_count": 11,
   "metadata": {},
   "outputs": [],
   "source": [
    "def guess_engine_type(engine_type, model):\n",
    "    \"\"\" Guess engine type by looking at other same model in the dataset\n",
    "    \"\"\"\n",
    "    if type(engine_type) == str:\n",
    "        return engine_type\n",
    "    else:\n",
    "        # Guess engine type\n",
    "        guess = df['Engine.Type'][df['Model'] == model].mode()\n",
    "        return guess[0] if guess.count() > 0 else None\n",
    "\n",
    "engine_types = df.apply(lambda x: guess_engine_type(x['Engine.Type'], x['Model']), axis=1)\n",
    "df = df.assign(EngineType=engine_types, index=df.index)\n",
    "df = df.drop('Engine.Type', axis=1)"
   ]
  },
  {
   "cell_type": "markdown",
   "metadata": {},
   "source": [
    "### Balloon\n",
    "We're not interested in balloons, remove it from dataset"
   ]
  },
  {
   "cell_type": "code",
   "execution_count": 12,
   "metadata": {},
   "outputs": [],
   "source": [
    "df = df[df['AircraftCategory'] != 'Balloon']"
   ]
  },
  {
   "cell_type": "markdown",
   "metadata": {},
   "source": [
    "Check null data again"
   ]
  },
  {
   "cell_type": "code",
   "execution_count": 13,
   "metadata": {},
   "outputs": [
    {
     "data": {
      "text/plain": [
       "Investigation.Type            1\n",
       "Event.Date                    0\n",
       "Location                     75\n",
       "Country                     507\n",
       "Airport.Code              35489\n",
       "Airport.Name              32744\n",
       "Injury.Severity               0\n",
       "Aircraft.Damage            2420\n",
       "Make                         73\n",
       "Model                       102\n",
       "Amateur.Built               627\n",
       "FAR.Description           56834\n",
       "Schedule                  70482\n",
       "Purpose.of.Flight          4550\n",
       "Air.Carrier               78119\n",
       "Total.Fatal.Injuries      25786\n",
       "Total.Serious.Injuries    28413\n",
       "Total.Minor.Injuries      27154\n",
       "Total.Uninjured           13768\n",
       "Weather.Condition             0\n",
       "Broad.Phase.of.Flight      6492\n",
       "Report.Status                 0\n",
       "NumberOfEngines            1397\n",
       "index                         0\n",
       "AircraftCategory           8873\n",
       "EngineType                  900\n",
       "dtype: int64"
      ]
     },
     "execution_count": 13,
     "metadata": {},
     "output_type": "execute_result"
    }
   ],
   "source": [
    "df.isnull().sum()"
   ]
  },
  {
   "cell_type": "markdown",
   "metadata": {},
   "source": [
    "### Extra columns"
   ]
  },
  {
   "cell_type": "code",
   "execution_count": 14,
   "metadata": {},
   "outputs": [
    {
     "data": {
      "text/html": [
       "<div>\n",
       "<style scoped>\n",
       "    .dataframe tbody tr th:only-of-type {\n",
       "        vertical-align: middle;\n",
       "    }\n",
       "\n",
       "    .dataframe tbody tr th {\n",
       "        vertical-align: top;\n",
       "    }\n",
       "\n",
       "    .dataframe thead th {\n",
       "        text-align: right;\n",
       "    }\n",
       "</style>\n",
       "<table border=\"1\" class=\"dataframe\">\n",
       "  <thead>\n",
       "    <tr style=\"text-align: right;\">\n",
       "      <th></th>\n",
       "      <th>Investigation.Type</th>\n",
       "      <th>Event.Date</th>\n",
       "      <th>Location</th>\n",
       "      <th>Country</th>\n",
       "      <th>Airport.Code</th>\n",
       "      <th>Airport.Name</th>\n",
       "      <th>Injury.Severity</th>\n",
       "      <th>Aircraft.Damage</th>\n",
       "      <th>Make</th>\n",
       "      <th>Model</th>\n",
       "      <th>...</th>\n",
       "      <th>Total.Minor.Injuries</th>\n",
       "      <th>Total.Uninjured</th>\n",
       "      <th>Weather.Condition</th>\n",
       "      <th>Broad.Phase.of.Flight</th>\n",
       "      <th>Report.Status</th>\n",
       "      <th>NumberOfEngines</th>\n",
       "      <th>index</th>\n",
       "      <th>AircraftCategory</th>\n",
       "      <th>EngineType</th>\n",
       "      <th>Year</th>\n",
       "    </tr>\n",
       "  </thead>\n",
       "  <tbody>\n",
       "    <tr>\n",
       "      <th>0</th>\n",
       "      <td>Accident</td>\n",
       "      <td>2018-12-16</td>\n",
       "      <td>Grangville, ID</td>\n",
       "      <td>United States</td>\n",
       "      <td>PVT</td>\n",
       "      <td>NaN</td>\n",
       "      <td>Non-Fatal</td>\n",
       "      <td>Substantial</td>\n",
       "      <td>Cessna</td>\n",
       "      <td>170</td>\n",
       "      <td>...</td>\n",
       "      <td>NaN</td>\n",
       "      <td>1.0</td>\n",
       "      <td>UNK</td>\n",
       "      <td>NaN</td>\n",
       "      <td>Preliminary</td>\n",
       "      <td>1.0</td>\n",
       "      <td>0</td>\n",
       "      <td>Airplane</td>\n",
       "      <td>Reciprocating</td>\n",
       "      <td>2018</td>\n",
       "    </tr>\n",
       "    <tr>\n",
       "      <th>1</th>\n",
       "      <td>Accident</td>\n",
       "      <td>2018-12-15</td>\n",
       "      <td>MORIARTY, NM</td>\n",
       "      <td>United States</td>\n",
       "      <td>NaN</td>\n",
       "      <td>MORIARTY MUNI</td>\n",
       "      <td>Non-Fatal</td>\n",
       "      <td>Substantial</td>\n",
       "      <td>Cessna</td>\n",
       "      <td>180</td>\n",
       "      <td>...</td>\n",
       "      <td>NaN</td>\n",
       "      <td>1.0</td>\n",
       "      <td>VMC</td>\n",
       "      <td>NaN</td>\n",
       "      <td>Preliminary</td>\n",
       "      <td>1.0</td>\n",
       "      <td>1</td>\n",
       "      <td>Airplane</td>\n",
       "      <td>Reciprocating</td>\n",
       "      <td>2018</td>\n",
       "    </tr>\n",
       "    <tr>\n",
       "      <th>2</th>\n",
       "      <td>Accident</td>\n",
       "      <td>2018-12-13</td>\n",
       "      <td>Punta Gorda, FL</td>\n",
       "      <td>United States</td>\n",
       "      <td>PGD</td>\n",
       "      <td>Punta Gorda</td>\n",
       "      <td>Non-Fatal</td>\n",
       "      <td>Substantial</td>\n",
       "      <td>CZECH SPORT AIRCRAFT AS</td>\n",
       "      <td>Piper Sport</td>\n",
       "      <td>...</td>\n",
       "      <td>1.0</td>\n",
       "      <td>NaN</td>\n",
       "      <td>VMC</td>\n",
       "      <td>APPROACH</td>\n",
       "      <td>Preliminary</td>\n",
       "      <td>1.0</td>\n",
       "      <td>2</td>\n",
       "      <td>Airplane</td>\n",
       "      <td>Reciprocating</td>\n",
       "      <td>2018</td>\n",
       "    </tr>\n",
       "    <tr>\n",
       "      <th>3</th>\n",
       "      <td>Accident</td>\n",
       "      <td>2018-12-13</td>\n",
       "      <td>Valparaiso, IN</td>\n",
       "      <td>United States</td>\n",
       "      <td>VPZ</td>\n",
       "      <td>Porter County Rgnl</td>\n",
       "      <td>Fatal(1)</td>\n",
       "      <td>Destroyed</td>\n",
       "      <td>Piper</td>\n",
       "      <td>PA24</td>\n",
       "      <td>...</td>\n",
       "      <td>NaN</td>\n",
       "      <td>NaN</td>\n",
       "      <td>VMC</td>\n",
       "      <td>TAKEOFF</td>\n",
       "      <td>Preliminary</td>\n",
       "      <td>1.0</td>\n",
       "      <td>3</td>\n",
       "      <td>Airplane</td>\n",
       "      <td>Reciprocating</td>\n",
       "      <td>2018</td>\n",
       "    </tr>\n",
       "    <tr>\n",
       "      <th>4</th>\n",
       "      <td>Accident</td>\n",
       "      <td>2018-12-11</td>\n",
       "      <td>Hartford, WI</td>\n",
       "      <td>United States</td>\n",
       "      <td>HXF</td>\n",
       "      <td>Hartford Muni</td>\n",
       "      <td>Non-Fatal</td>\n",
       "      <td>Substantial</td>\n",
       "      <td>Beech</td>\n",
       "      <td>36</td>\n",
       "      <td>...</td>\n",
       "      <td>NaN</td>\n",
       "      <td>1.0</td>\n",
       "      <td>VMC</td>\n",
       "      <td>NaN</td>\n",
       "      <td>Preliminary</td>\n",
       "      <td>1.0</td>\n",
       "      <td>4</td>\n",
       "      <td>Airplane</td>\n",
       "      <td>Reciprocating</td>\n",
       "      <td>2018</td>\n",
       "    </tr>\n",
       "  </tbody>\n",
       "</table>\n",
       "<p>5 rows × 27 columns</p>\n",
       "</div>"
      ],
      "text/plain": [
       "  Investigation.Type  Event.Date         Location        Country Airport.Code  \\\n",
       "0           Accident  2018-12-16   Grangville, ID  United States          PVT   \n",
       "1           Accident  2018-12-15     MORIARTY, NM  United States          NaN   \n",
       "2           Accident  2018-12-13  Punta Gorda, FL  United States          PGD   \n",
       "3           Accident  2018-12-13   Valparaiso, IN  United States          VPZ   \n",
       "4           Accident  2018-12-11     Hartford, WI  United States          HXF   \n",
       "\n",
       "         Airport.Name Injury.Severity Aircraft.Damage  \\\n",
       "0                 NaN       Non-Fatal     Substantial   \n",
       "1       MORIARTY MUNI       Non-Fatal     Substantial   \n",
       "2         Punta Gorda       Non-Fatal     Substantial   \n",
       "3  Porter County Rgnl        Fatal(1)       Destroyed   \n",
       "4       Hartford Muni       Non-Fatal     Substantial   \n",
       "\n",
       "                      Make        Model  ... Total.Minor.Injuries  \\\n",
       "0                   Cessna          170  ...                  NaN   \n",
       "1                   Cessna          180  ...                  NaN   \n",
       "2  CZECH SPORT AIRCRAFT AS  Piper Sport  ...                  1.0   \n",
       "3                    Piper         PA24  ...                  NaN   \n",
       "4                    Beech           36  ...                  NaN   \n",
       "\n",
       "  Total.Uninjured Weather.Condition Broad.Phase.of.Flight Report.Status  \\\n",
       "0             1.0               UNK                   NaN   Preliminary   \n",
       "1             1.0               VMC                   NaN   Preliminary   \n",
       "2             NaN               VMC              APPROACH   Preliminary   \n",
       "3             NaN               VMC               TAKEOFF   Preliminary   \n",
       "4             1.0               VMC                   NaN   Preliminary   \n",
       "\n",
       "   NumberOfEngines  index  AircraftCategory     EngineType  Year  \n",
       "0              1.0      0          Airplane  Reciprocating  2018  \n",
       "1              1.0      1          Airplane  Reciprocating  2018  \n",
       "2              1.0      2          Airplane  Reciprocating  2018  \n",
       "3              1.0      3          Airplane  Reciprocating  2018  \n",
       "4              1.0      4          Airplane  Reciprocating  2018  \n",
       "\n",
       "[5 rows x 27 columns]"
      ]
     },
     "execution_count": 14,
     "metadata": {},
     "output_type": "execute_result"
    }
   ],
   "source": [
    "df['Year'] = df['Event.Date'].apply(lambda d: datetime.datetime.strptime(d, \"%Y-%m-%d\").year)\n",
    "df.head()"
   ]
  },
  {
   "cell_type": "markdown",
   "metadata": {},
   "source": [
    "## Analyze, Model, and Visualize"
   ]
  },
  {
   "cell_type": "markdown",
   "metadata": {},
   "source": [
    "### How safe is air travelling over time?"
   ]
  },
  {
   "cell_type": "code",
   "execution_count": 23,
   "metadata": {},
   "outputs": [
    {
     "data": {
      "text/plain": [
       "<matplotlib.axes._subplots.AxesSubplot at 0x1e2f2994668>"
      ]
     },
     "execution_count": 23,
     "metadata": {},
     "output_type": "execute_result"
    },
    {
     "data": {
      "image/png": "[encoded data removed]",
      "text/plain": [
       "<Figure size 1080x432 with 1 Axes>"
      ]
     },
     "metadata": {
      "needs_background": "light"
     },
     "output_type": "display_data"
    }
   ],
   "source": [
    "years = np.arange(1982, 2018)\n",
    "\n",
    "df[df['Year'] > 1981].groupby('Year').size().plot(kind='line',\n",
    "                                                  xticks=years,\n",
    "                                                  rot=90,\n",
    "                                                  title='Number of Aviation Accidents per Year',\n",
    "                                                  grid=True)"
   ]
  },
  {
   "cell_type": "markdown",
   "metadata": {},
   "source": [
    "There is a clear trend that air travelling is becoming safer and safer.\n",
    "The highest drop in accidents occurs in the year:\n",
    "- 1985\n",
    "- 2013\n",
    "\n",
    "In some years, the number of accidents slightly increase, but overall, it drops over time."
   ]
  },
  {
   "cell_type": "markdown",
   "metadata": {},
   "source": [
    "### How is weather affecting aviation accidents?"
   ]
  },
  {
   "cell_type": "code",
   "execution_count": 17,
   "metadata": {},
   "outputs": [
    {
     "data": {
      "text/plain": [
       "array(['UNK', 'VMC', 'IMC'], dtype=object)"
      ]
     },
     "execution_count": 17,
     "metadata": {},
     "output_type": "execute_result"
    }
   ],
   "source": [
    "# First clean the weather data\n",
    "df['Weather.Condition'].unique()"
   ]
  },
  {
   "cell_type": "markdown",
   "metadata": {},
   "source": [
    "The weather condition types are:\n",
    "- UNK: Unknown\n",
    "- VMC - Visual meteorological conditions: a flight category where visual flight rules (VFR) is permitted. It means pilots can fly the aircraft using visual techniques.\n",
    "- IMC: Instrument meteorological conditions: a flight category where pilots fly by reference to the instruments under instrument flight rules (IFR) due to bad weather and/or bad visibility during flight."
   ]
  },
  {
   "cell_type": "code",
   "execution_count": 24,
   "metadata": {},
   "outputs": [
    {
     "data": {
      "text/plain": [
       "<matplotlib.axes._subplots.AxesSubplot at 0x1e2f2c40f28>"
      ]
     },
     "execution_count": 24,
     "metadata": {},
     "output_type": "execute_result"
    },
    {
     "data": {
      "image/png": "[encoded data removed]",
      "text/plain": [
       "<Figure size 1080x432 with 1 Axes>"
      ]
     },
     "metadata": {
      "needs_background": "light"
     },
     "output_type": "display_data"
    }
   ],
   "source": [
    "df[df['Weather.Condition'] != 'UNK'].groupby('Weather.Condition').mean().plot(kind='bar',\n",
    "                                            y='index',\n",
    "                                            legend=False,\n",
    "                                            title='Number of Aviation Accidents based on Weather Condition')"
   ]
  },
  {
   "cell_type": "markdown",
   "metadata": {},
   "source": [
    "On average, IFR flights in bad weather condition are slightly less safe than flying in good weather condition with VFR."
   ]
  },
  {
   "cell_type": "markdown",
   "metadata": {},
   "source": [
    "### What Phase of Flight is an Accident Likely to Occur?"
   ]
  },
  {
   "cell_type": "code",
   "execution_count": 25,
   "metadata": {},
   "outputs": [
    {
     "data": {
      "text/plain": [
       "<matplotlib.axes._subplots.AxesSubplot at 0x1e2f2784f28>"
      ]
     },
     "execution_count": 25,
     "metadata": {},
     "output_type": "execute_result"
    },
    {
     "data": {
      "image/png": "[encoded data removed]",
      "text/plain": [
       "<Figure size 1080x432 with 1 Axes>"
      ]
     },
     "metadata": {
      "needs_background": "light"
     },
     "output_type": "display_data"
    }
   ],
   "source": [
    "df['Broad.Phase.of.Flight'].value_counts().plot(kind='bar',\n",
    "                                                title='Number of Aviation Accidents per Flight Phase')"
   ]
  },
  {
   "cell_type": "markdown",
   "metadata": {},
   "source": [
    "The majority of accidents occur during landing but not during approach phase. The second highest number of accidents occurs during takeoff. Pilots definitely pay the most attention during takeoff and landing phases of the flight."
   ]
  },
  {
   "cell_type": "code",
   "execution_count": null,
   "metadata": {},
   "outputs": [],
   "source": []
  }
 ],
 "metadata": {
  "kernelspec": {
   "display_name": "Python 3",
   "language": "python",
   "name": "python3"
  },
  "language_info": {
   "codemirror_mode": {
    "name": "ipython",
    "version": 3
   },
   "file_extension": ".py",
   "mimetype": "text/x-python",
   "name": "python",
   "nbconvert_exporter": "python",
   "pygments_lexer": "ipython3",
   "version": "3.7.2"
  }
 },
 "nbformat": 4,
 "nbformat_minor": 2
}
